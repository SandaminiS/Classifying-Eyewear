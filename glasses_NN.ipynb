{
 "cells": [
  {
   "cell_type": "code",
   "execution_count": 12,
   "id": "154b88ac-aec8-4481-9a57-db6ffb2f74b0",
   "metadata": {},
   "outputs": [
    {
     "name": "stdout",
     "output_type": "stream",
     "text": [
      "Epoch [1/20], Step [100/141], Loss: 36.4492\n",
      "Epoch [2/20], Step [100/141], Loss: 36.8125\n",
      "Epoch [3/20], Step [100/141], Loss: 36.1875\n",
      "Epoch [4/20], Step [100/141], Loss: 36.9062\n",
      "Epoch [5/20], Step [100/141], Loss: 36.2500\n",
      "Epoch [6/20], Step [100/141], Loss: 36.4375\n",
      "Epoch [7/20], Step [100/141], Loss: 36.5938\n",
      "Epoch [8/20], Step [100/141], Loss: 37.2188\n",
      "Epoch [9/20], Step [100/141], Loss: 36.2188\n",
      "Epoch [10/20], Step [100/141], Loss: 36.5938\n",
      "Epoch [11/20], Step [100/141], Loss: 37.0312\n",
      "Epoch [12/20], Step [100/141], Loss: 36.2500\n",
      "Epoch [13/20], Step [100/141], Loss: 36.5625\n",
      "Epoch [14/20], Step [100/141], Loss: 36.5312\n",
      "Epoch [15/20], Step [100/141], Loss: 36.5625\n",
      "Epoch [16/20], Step [100/141], Loss: 36.6875\n",
      "Epoch [17/20], Step [100/141], Loss: 36.4062\n",
      "Epoch [18/20], Step [100/141], Loss: 36.7500\n",
      "Epoch [19/20], Step [100/141], Loss: 37.4062\n",
      "Epoch [20/20], Step [100/141], Loss: 36.6875\n",
      "Finished Training\n"
     ]
    }
   ],
   "source": [
    "import torch\n",
    "import torch.nn as nn\n",
    "import torch.optim as optim\n",
    "from torch.utils.data import DataLoader, Dataset\n",
    "import torchvision.transforms as transforms\n",
    "import pandas as pd\n",
    "from PIL import Image\n",
    "\n",
    "class GlassesDataset(Dataset):\n",
    "    def __init__(self, dataframe, transform=None):\n",
    "        self.dataframe = dataframe\n",
    "        self.transform = transform\n",
    "\n",
    "    def __len__(self):\n",
    "        return len(self.dataframe)\n",
    "\n",
    "    def __getitem__(self, idx):\n",
    "        img_name = str(self.dataframe.iloc[idx, 0])  # Convert to string\n",
    "        try:\n",
    "            image = Image.open(img_name).convert('RGB')\n",
    "        except Exception as e:\n",
    "            print(f\"Error loading image {img_name}: {e}\")\n",
    "            return None, None  # Return None if there's an error loading the image\n",
    "\n",
    "        label = int(self.dataframe.iloc[idx, 1])\n",
    "\n",
    "        if self.transform:\n",
    "            image = self.transform(image)\n",
    "\n",
    "        return image, label\n",
    "\n",
    "# Define transformations\n",
    "transform = transforms.Compose([\n",
    "    transforms.Resize((64, 64)),\n",
    "    transforms.ToTensor(),\n",
    "])\n",
    "\n",
    "# Load data\n",
    "train_df = pd.read_csv('C:/Users/sanda/OneDrive - University of Central Florida/UCF/4_Spring_2024/Courses/STA6367 Statistical Methodology for Data Science II/Final Project/glasses/train.csv')\n",
    "train_directory = 'C:/Users/sanda/OneDrive - University of Central Florida/UCF/4_Spring_2024/Courses/STA6367 Statistical Methodology for Data Science II/Final Project/glasses/faces-spring-2020/faces-spring-2020/face-'\n",
    "train_df['path'] = train_df['id'].apply(lambda x: train_directory + str(x) + '.png').tolist()\n",
    "train_df = train_df[['path', 'glasses']]\n",
    "\n",
    "# Create datasets\n",
    "train_dataset = GlassesDataset(train_df, transform=transform)\n",
    "\n",
    "# Create data loaders\n",
    "train_loader = DataLoader(train_dataset, batch_size=32, shuffle=True)\n",
    "\n",
    "# Define the feedforward neural network architecture\n",
    "class FFNN(nn.Module):\n",
    "    def __init__(self):\n",
    "        super(FFNN, self).__init__()\n",
    "        self.flatten = nn.Flatten()\n",
    "        self.fc1 = nn.Linear(3 * 64 * 64, 500)  # Adjusted input size for 64x64 images\n",
    "        self.fc2 = nn.Linear(500, 1)  # Output dimension is 1 for binary classification\n",
    "        self.relu = nn.ReLU()\n",
    "        self.sigmoid = nn.Sigmoid()\n",
    "\n",
    "    def forward(self, x):\n",
    "        x = self.flatten(x)\n",
    "        x = self.relu(self.fc1(x))\n",
    "        x = self.sigmoid(self.fc2(x))  # Sigmoid activation for binary classification\n",
    "        return x\n",
    "\n",
    "# Initialize the model\n",
    "model = FFNN()\n",
    "\n",
    "# Define loss function and optimizer\n",
    "criterion = nn.BCELoss()\n",
    "optimizer = optim.Adam(model.parameters())\n",
    "\n",
    "# Training the model\n",
    "train_losses = []  # to track the training loss over epochs\n",
    "for epoch in range(20):  # loop over the dataset multiple times\n",
    "    running_loss = 0.0\n",
    "    for i, data in enumerate(train_loader, 0):\n",
    "        inputs, labels = data\n",
    "        optimizer.zero_grad()\n",
    "        outputs = model(inputs)\n",
    "        loss = criterion(outputs, labels.float().unsqueeze(1))\n",
    "        loss.backward()\n",
    "        optimizer.step()\n",
    "\n",
    "        running_loss += loss.item()\n",
    "        if i % 100 == 99:  # print every 100 mini-batches\n",
    "            print(f'Epoch [{epoch + 1}/{20}], Step [{i + 1}/{len(train_loader)}], Loss: {running_loss / 100:.4f}')\n",
    "            train_losses.append(running_loss / 100)\n",
    "            running_loss = 0.0\n",
    "\n",
    "print('Finished Training')\n"
   ]
  },
  {
   "cell_type": "code",
   "execution_count": 13,
   "id": "4c991104-2c5e-443e-8a28-968ca3588149",
   "metadata": {},
   "outputs": [
    {
     "name": "stdout",
     "output_type": "stream",
     "text": [
      "Training Accuracy: 0.6346666666666667\n"
     ]
    }
   ],
   "source": [
    "# Function to calculate accuracy\n",
    "def calculate_accuracy(loader, model):\n",
    "    model.eval()\n",
    "    correct = 0\n",
    "    total = 0\n",
    "    with torch.no_grad():\n",
    "        for data in loader:\n",
    "            images, labels = data\n",
    "            outputs = model(images)\n",
    "            predicted = (outputs > 0.5).float()  # Predicted as positive if output > 0.5\n",
    "            total += labels.size(0)\n",
    "            correct += (predicted == labels.unsqueeze(1)).sum().item()\n",
    "    return correct / total\n",
    "\n",
    "# Calculate training accuracy\n",
    "train_accuracy = calculate_accuracy(train_loader, model)\n",
    "print(f\"Training Accuracy: {train_accuracy}\")"
   ]
  },
  {
   "cell_type": "code",
   "execution_count": null,
   "id": "2aea54f9-f6e1-4d6a-9aef-fd75ddda84e2",
   "metadata": {},
   "outputs": [],
   "source": []
  },
  {
   "cell_type": "markdown",
   "id": "d29b6933-2ada-43b4-a901-54756f13c74d",
   "metadata": {},
   "source": [
    "# Test"
   ]
  },
  {
   "cell_type": "code",
   "execution_count": 14,
   "id": "be9ff1a9-af6a-48db-896a-180000013eb1",
   "metadata": {},
   "outputs": [],
   "source": [
    "class GlassesTestDataset(Dataset):\n",
    "    def __init__(self, dataframe, transform=None):\n",
    "        self.dataframe = dataframe\n",
    "        self.transform = transform\n",
    "\n",
    "    def __len__(self):\n",
    "        return len(self.dataframe)\n",
    "\n",
    "    def __getitem__(self, idx):\n",
    "        img_name = str(self.dataframe.iloc[idx, 0])  # Convert to string\n",
    "        try:\n",
    "            image = Image.open(img_name).convert('RGB')\n",
    "        except Exception as e:\n",
    "            print(f\"Error loading image {img_name}: {e}\")\n",
    "            return None\n",
    "\n",
    "        if self.transform:\n",
    "            image = self.transform(image)\n",
    "\n",
    "        return image\n"
   ]
  },
  {
   "cell_type": "code",
   "execution_count": 15,
   "id": "a82bec85-8710-4a40-82cf-78eefb0aa334",
   "metadata": {},
   "outputs": [],
   "source": [
    "\n",
    "test_df = pd.read_csv('C:/Users/sanda/OneDrive - University of Central Florida/UCF/4_Spring_2024/Courses/STA6367 Statistical Methodology for Data Science II/Final Project/glasses/test.csv')\n",
    "test_directory = 'C:/Users/sanda/OneDrive - University of Central Florida/UCF/4_Spring_2024/Courses/STA6367 Statistical Methodology for Data Science II/Final Project/glasses/faces-spring-2020/test/face-'\n",
    "test_df['path'] = test_df['id'].apply(lambda x: test_directory + str(x) + '.png').tolist()\n",
    "test_df = test_df[['path']]\n"
   ]
  },
  {
   "cell_type": "code",
   "execution_count": 16,
   "id": "3739fe46-ef14-4981-af5b-5c7527eda313",
   "metadata": {},
   "outputs": [
    {
     "name": "stdout",
     "output_type": "stream",
     "text": [
      "[1, 1, 1, 1, 1, 1, 1, 1, 1, 1, 1, 1, 1, 1, 1, 1, 1, 1, 1, 1, 1, 1, 1, 1, 1, 1, 1, 1, 1, 1, 1, 1, 1, 1, 1, 1, 1, 1, 1, 1, 1, 1, 1, 1, 1, 1, 1, 1, 1, 1, 1, 1, 1, 1, 1, 1, 1, 1, 1, 1, 1, 1, 1, 1, 1, 1, 1, 1, 1, 1, 1, 1, 1, 1, 1, 1, 1, 1, 1, 1, 1, 1, 1, 1, 1, 1, 1, 1, 1, 1, 1, 1, 1, 1, 1, 1, 1, 1, 1, 1, 1, 1, 1, 1, 1, 1, 1, 1, 1, 1, 1, 1, 1, 1, 1, 1, 1, 1, 1, 1, 1, 1, 1, 1, 1, 1, 1, 1, 1, 1, 1, 1, 1, 1, 1, 1, 1, 1, 1, 1, 1, 1, 1, 1, 1, 1, 1, 1, 1, 1, 1, 1, 1, 1, 1, 1, 1, 1, 1, 1, 1, 1, 1, 1, 1, 1, 1, 1, 1, 1, 1, 1, 1, 1, 1, 1, 1, 1, 1, 1, 1, 1, 1, 1, 1, 1, 1, 1, 1, 1, 1, 1, 1, 1, 1, 1, 1, 1, 1, 1, 1, 1, 1, 1, 1, 1, 1, 1, 1, 1, 1, 1, 1, 1, 1, 1, 1, 1, 1, 1, 1, 1, 1, 1, 1, 1, 1, 1, 1, 1, 1, 1, 1, 1, 1, 1, 1, 1, 1, 1, 1, 1, 1, 1, 1, 1, 1, 1, 1, 1, 1, 1, 1, 1, 1, 1, 1, 1, 1, 1, 1, 1, 1, 1, 1, 1, 1, 1, 1, 1, 1, 1, 1, 1, 1, 1, 1, 1, 1, 1, 1, 1, 1, 1, 1, 1, 1, 1, 1, 1, 1, 1, 1, 1, 1, 1, 1, 1, 1, 1, 1, 1, 1, 1, 1, 1, 1, 1, 1, 1, 1, 1, 1, 1, 1, 1, 1, 1, 1, 1, 1, 1, 1, 1, 1, 1, 1, 1, 1, 1, 1, 1, 1, 1, 1, 1, 1, 1, 1, 1, 1, 1, 1, 1, 1, 1, 1, 1, 1, 1, 1, 1, 1, 1, 1, 1, 1, 1, 1, 1, 1, 1, 1, 1, 1, 1, 1, 1, 1, 1, 1, 1, 1, 1, 1, 1, 1, 1, 1, 1, 1, 1, 1, 1, 1, 1, 1, 1, 1, 1, 1, 1, 1, 1, 1, 1, 1, 1, 1, 1, 1, 1, 1, 1, 1, 1, 1, 1, 1, 1, 1, 1, 1, 1, 1, 1, 1, 1, 1, 1, 1, 1, 1, 1, 1, 1, 1, 1, 1, 1, 1, 1, 1, 1, 1, 1, 1, 1, 1, 1, 1, 1, 1, 1, 1, 1, 1, 1, 1, 1, 1, 1, 1, 1, 1, 1, 1, 1, 1, 1, 1, 1, 1, 1, 1, 1, 1, 1, 1, 1, 1, 1, 1, 1, 1, 1, 1, 1, 1, 1, 1, 1, 1, 1, 1, 1, 1, 1, 1, 1, 1, 1, 1, 1, 1, 1, 1, 1, 1, 1]\n"
     ]
    }
   ],
   "source": [
    "test_dataset = GlassesTestDataset(test_df, transform=transform)\n",
    "\n",
    "# Create data loader for testing\n",
    "test_loader = DataLoader(test_dataset, batch_size=32, shuffle=False)\n",
    "\n",
    "# Make predictions on the test set\n",
    "test_predictions = []\n",
    "\n",
    "with torch.no_grad():\n",
    "    for images in test_loader:\n",
    "        outputs = model(images)\n",
    "        predictions = torch.round(outputs)  # Round the probabilities to get binary predictions\n",
    "        test_predictions.extend(predictions.numpy().flatten())\n",
    "\n",
    "# Convert predictions to binary values\n",
    "test_predictions = [int(pred) for pred in test_predictions]\n",
    "\n",
    "# Print the predictions\n",
    "print(test_predictions)\n"
   ]
  },
  {
   "cell_type": "code",
   "execution_count": 19,
   "id": "152d672e-1775-4a68-8fcc-f1df92856e2d",
   "metadata": {},
   "outputs": [],
   "source": [
    "ytest = pd.read_csv('C:/Users/sanda/OneDrive - University of Central Florida/UCF/4_Spring_2024/Courses/STA6367 Statistical Methodology for Data Science II/Final Project/glasses/ytrain.csv', header=None)"
   ]
  },
  {
   "cell_type": "code",
   "execution_count": 20,
   "id": "23b90b1c-414a-4127-9aee-2de3188fb969",
   "metadata": {},
   "outputs": [],
   "source": [
    "vector = ytest.to_numpy().flatten()"
   ]
  },
  {
   "cell_type": "code",
   "execution_count": 21,
   "id": "c405a4e6-e04d-418d-961a-05643983b75a",
   "metadata": {},
   "outputs": [
    {
     "name": "stdout",
     "output_type": "stream",
     "text": [
      "58.8\n"
     ]
    }
   ],
   "source": [
    "pred_vals = 0\n",
    "\n",
    "# Iterate over each pair of elements in test_predictions and vector\n",
    "for pred, true_val in zip(test_predictions, vector):\n",
    "    if pred == true_val:\n",
    "        pred_vals += 1\n",
    "\n",
    "print(pred_vals/len(test_predictions)*100)\n"
   ]
  },
  {
   "cell_type": "code",
   "execution_count": null,
   "id": "1a9cd4ad-12a1-4315-9f68-e417843d12c2",
   "metadata": {},
   "outputs": [],
   "source": []
  }
 ],
 "metadata": {
  "kernelspec": {
   "display_name": "Python 3 (ipykernel)",
   "language": "python",
   "name": "python3"
  },
  "language_info": {
   "codemirror_mode": {
    "name": "ipython",
    "version": 3
   },
   "file_extension": ".py",
   "mimetype": "text/x-python",
   "name": "python",
   "nbconvert_exporter": "python",
   "pygments_lexer": "ipython3",
   "version": "3.11.7"
  }
 },
 "nbformat": 4,
 "nbformat_minor": 5
}
